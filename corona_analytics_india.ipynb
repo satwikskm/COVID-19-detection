{
 "cells": [
  {
   "cell_type": "code",
   "execution_count": 1,
   "metadata": {},
   "outputs": [],
   "source": [
    "import pandas as pd\n",
    "import seaborn as sns\n",
    "import matplotlib.pyplot as plt"
   ]
  },
  {
   "cell_type": "code",
   "execution_count": 2,
   "metadata": {},
   "outputs": [],
   "source": [
    "corona=pd.read_csv(r'D:\\machine_learning_and _iot\\covid_19_india.csv')\n",
    "hospital_beds=pd.read_csv(r'D:\\machine_learning_and _iot\\HospitalBedsIndia.csv')\n",
    "Individual_details=pd.read_csv(r'D:\\machine_learning_and _iot\\IndividualDetails.csv')\n",
    "Population=pd.read_csv(r'D:\\machine_learning_and _iot\\population_india_census2011.csv')"
   ]
  },
  {
   "cell_type": "code",
   "execution_count": 3,
   "metadata": {},
   "outputs": [
    {
     "name": "stdout",
     "output_type": "stream",
     "text": [
      "   Sno      Date State/UnionTerritory  ConfirmedIndianNational  \\\n",
      "0    1  30/01/20               Kerala                        1   \n",
      "1    2  31/01/20               Kerala                        1   \n",
      "2    3  01/02/20               Kerala                        2   \n",
      "3    4  02/02/20               Kerala                        3   \n",
      "4    5  03/02/20               Kerala                        3   \n",
      "\n",
      "   ConfirmedForeignNational  Cured  Deaths  Unnamed: 7  Unnamed: 8  \\\n",
      "0                         0      0       0         NaN         NaN   \n",
      "1                         0      0       0         NaN         NaN   \n",
      "2                         0      0       0         NaN         NaN   \n",
      "3                         0      0       0         NaN         NaN   \n",
      "4                         0      0       0         NaN         NaN   \n",
      "\n",
      "   Unnamed: 9  Unnamed: 10  Unnamed: 11  Unnamed: 12  \n",
      "0         NaN          NaN          NaN          NaN  \n",
      "1         NaN          NaN          NaN          NaN  \n",
      "2         NaN          NaN          NaN          NaN  \n",
      "3         NaN          NaN          NaN          NaN  \n",
      "4         NaN          NaN          NaN          NaN  \n",
      "   Sno                   State/UT NumPrimaryHealthCenters_HMIS  \\\n",
      "0  1.0  Andaman & Nicobar Islands                           27   \n",
      "1  2.0             Andhra Pradesh                         1417   \n",
      "2  3.0          Arunachal Pradesh                          122   \n",
      "3  4.0                      Assam                         1007   \n",
      "4  5.0                      Bihar                         2007   \n",
      "\n",
      "  NumCommunityHealthCenters_HMIS NumSubDistrictHospitals_HMIS  \\\n",
      "0                              4                          NaN   \n",
      "1                            198                           31   \n",
      "2                             62                          NaN   \n",
      "3                            166                           14   \n",
      "4                             63                           33   \n",
      "\n",
      "  NumDistrictHospitals_HMIS TotalPublicHealthFacilities_HMIS  \\\n",
      "0                         3                               34   \n",
      "1                        20                             1666   \n",
      "2                        15                              199   \n",
      "3                        33                             1220   \n",
      "4                        43                             2146   \n",
      "\n",
      "  NumPublicBeds_HMIS  NumRuralHospitals_NHP18  NumRuralBeds_NHP18  \\\n",
      "0               1246                     27.0               575.0   \n",
      "1              60799                    193.0              6480.0   \n",
      "2               2320                    208.0              2136.0   \n",
      "3              19115                   1176.0             10944.0   \n",
      "4              17796                    930.0              6083.0   \n",
      "\n",
      "   NumUrbanHospitals_NHP18  NumUrbanBeds_NHP18  Unnamed: 12  Unnamed: 13  \n",
      "0                      3.0               500.0          NaN          NaN  \n",
      "1                     65.0             16658.0          NaN          NaN  \n",
      "2                     10.0               268.0          NaN          NaN  \n",
      "3                     50.0              6198.0          NaN          NaN  \n",
      "4                    103.0              5936.0          NaN          NaN  \n",
      "   ID  Unique id Government id Diagnosed date   Age   Gender  \\\n",
      "0   1          1      KL-TS-P1    30/Jan/2020  20.0   Female   \n",
      "1   2          2      KL-AL-P1    02/Feb/2020   NaN  Unknown   \n",
      "2   3          3      KL-KS-P1    03/Feb/2020   NaN  Unknown   \n",
      "3   4          4         DL-P1    02/Mar/2020  45.0     Male   \n",
      "4   5          5         TS-P1    02/Mar/2020   NaN  Unknown   \n",
      "\n",
      "              Detected city                                Detected city pt  \\\n",
      "0                  Thrissur  SRID=4326;POINT (76.21325419999999 10.5256264)   \n",
      "1                 Alappuzha   SRID=4326;POINT (76.333482 9.498000100000001)   \n",
      "2                 Kasargode                         SRID=4326;POINT (80 20)   \n",
      "3  East Delhi (Mayur Vihar)                         SRID=4326;POINT (80 20)   \n",
      "4                 Hyderabad   SRID=4326;POINT (78.4349398685041 17.4263524)   \n",
      "\n",
      "  Detected district Detected state Nationality Current status  \\\n",
      "0          Thrissur         Kerala       India      Recovered   \n",
      "1         Alappuzha         Kerala       India      Recovered   \n",
      "2         Kasaragod         Kerala       India      Recovered   \n",
      "3        East Delhi          Delhi       India      Recovered   \n",
      "4         Hyderabad      Telangana       India      Recovered   \n",
      "\n",
      "  Status change date                                              Notes  \\\n",
      "0         02/14/2020          Travelled from Wuhan.\\nStudent from Wuhan   \n",
      "1         02/14/2020          Travelled from Wuhan.\\nStudent from Wuhan   \n",
      "2         02/14/2020          Travelled from Wuhan.\\nStudent from Wuhan   \n",
      "3         03/15/2020  Travelled from Austria, Italy.\\nTravel history...   \n",
      "4         03/02/2020  Travelled from Dubai, Singapore contact.\\nTrav...   \n",
      "\n",
      "  Current location                             Current location pt  \\\n",
      "0              NaN  SRID=4326;POINT (76.21325419999999 10.5256264)   \n",
      "1              NaN   SRID=4326;POINT (76.333482 9.498000100000001)   \n",
      "2              NaN                         SRID=4326;POINT (80 20)   \n",
      "3              NaN                         SRID=4326;POINT (80 20)   \n",
      "4              NaN   SRID=4326;POINT (78.4349398685041 17.4263524)   \n",
      "\n",
      "              Created on             Updated on  \\\n",
      "0  03/23/2020 12:20 p.m.  03/23/2020 12:20 p.m.   \n",
      "1  03/23/2020 12:20 p.m.  03/23/2020 12:20 p.m.   \n",
      "2  03/23/2020 12:20 p.m.  03/23/2020 12:20 p.m.   \n",
      "3  03/23/2020 12:20 p.m.  03/23/2020 12:20 p.m.   \n",
      "4  03/23/2020 12:20 p.m.  03/23/2020 12:20 p.m.   \n",
      "\n",
      "                                            Contacts  \n",
      "0                                                NaN  \n",
      "1                                                NaN  \n",
      "2                                                NaN  \n",
      "3  Patient 22:, Patient 23:, Patient 24:, Patient...  \n",
      "4                                                NaN  \n",
      "   Sno State / Union Territory  Population  Rural population  \\\n",
      "0    1           Uttar Pradesh   199812341         155317278   \n",
      "1    2             Maharashtra   112374333          61556074   \n",
      "2    3                   Bihar   104099452          92341436   \n",
      "3    4             West Bengal    91276115          62183113   \n",
      "4    5          Madhya Pradesh    72626809          52557404   \n",
      "\n",
      "   Urban population                         Area                  Density  \\\n",
      "0          44495063   240,928 km2 (93,023 sq mi)    828/km2 (2,140/sq mi)   \n",
      "1          50818259  307,713 km2 (118,809 sq mi)      365/km2 (950/sq mi)   \n",
      "2          11758016    94,163 km2 (36,357 sq mi)  1,102/km2 (2,850/sq mi)   \n",
      "3          29093002    88,752 km2 (34,267 sq mi)  1,029/km2 (2,670/sq mi)   \n",
      "4          20069405  308,245 km2 (119,014 sq mi)      236/km2 (610/sq mi)   \n",
      "\n",
      "   Gender Ratio  \n",
      "0           912  \n",
      "1           929  \n",
      "2           918  \n",
      "3           953  \n",
      "4           931  \n"
     ]
    }
   ],
   "source": [
    "print(corona.head())\n",
    "print(hospital_beds.head())\n",
    "print(Individual_details.head())\n",
    "print(Population.head())"
   ]
  },
  {
   "cell_type": "code",
   "execution_count": 4,
   "metadata": {},
   "outputs": [
    {
     "name": "stdout",
     "output_type": "stream",
     "text": [
      "Index(['Sno', 'Date', 'State/UnionTerritory', 'ConfirmedIndianNational',\n",
      "       'ConfirmedForeignNational', 'Cured', 'Deaths', 'Unnamed: 7',\n",
      "       'Unnamed: 8', 'Unnamed: 9', 'Unnamed: 10', 'Unnamed: 11',\n",
      "       'Unnamed: 12'],\n",
      "      dtype='object')\n",
      "Index(['Sno', 'State/UT', 'NumPrimaryHealthCenters_HMIS',\n",
      "       'NumCommunityHealthCenters_HMIS', 'NumSubDistrictHospitals_HMIS',\n",
      "       'NumDistrictHospitals_HMIS', 'TotalPublicHealthFacilities_HMIS',\n",
      "       'NumPublicBeds_HMIS', 'NumRuralHospitals_NHP18', 'NumRuralBeds_NHP18',\n",
      "       'NumUrbanHospitals_NHP18', 'NumUrbanBeds_NHP18', 'Unnamed: 12',\n",
      "       'Unnamed: 13'],\n",
      "      dtype='object')\n",
      "Index(['ID', 'Unique id', 'Government id', 'Diagnosed date', 'Age', 'Gender',\n",
      "       'Detected city', 'Detected city pt', 'Detected district',\n",
      "       'Detected state', 'Nationality', 'Current status', 'Status change date',\n",
      "       'Notes', 'Current location', 'Current location pt', 'Created on',\n",
      "       'Updated on', 'Contacts'],\n",
      "      dtype='object')\n",
      "Index(['Sno', 'State / Union Territory', 'Population', 'Rural population',\n",
      "       'Urban population', 'Area', 'Density', 'Gender Ratio'],\n",
      "      dtype='object')\n"
     ]
    }
   ],
   "source": [
    "print(corona.columns)\n",
    "print(hospital_beds.columns)\n",
    "print(Individual_details.columns)\n",
    "print(Population.columns)"
   ]
  },
  {
   "cell_type": "code",
   "execution_count": 7,
   "metadata": {},
   "outputs": [
    {
     "data": {
      "text/plain": [
       "<matplotlib.axes._subplots.AxesSubplot at 0x157d76fc8c8>"
      ]
     },
     "execution_count": 7,
     "metadata": {},
     "output_type": "execute_result"
    },
    {
     "data": {
      "image/png": "[encoded data removed]",
      "text/plain": [
       "<Figure size 432x288 with 1 Axes>"
      ]
     },
     "metadata": {
      "needs_background": "light"
     },
     "output_type": "display_data"
    }
   ],
   "source": [
    "pd.crosstab(corona['ConfirmedIndianNational'],corona['Cured']).plot(kind='bar')"
   ]
  },
  {
   "cell_type": "code",
   "execution_count": 14,
   "metadata": {},
   "outputs": [
    {
     "data": {
      "text/plain": [
       "Text(0, 0.5, 'cured')"
      ]
     },
     "execution_count": 14,
     "metadata": {},
     "output_type": "execute_result"
    },
    {
     "data": {
      "image/png": "[encoded data removed]",
      "text/plain": [
       "<Figure size 432x288 with 1 Axes>"
      ]
     },
     "metadata": {
      "needs_background": "light"
     },
     "output_type": "display_data"
    }
   ],
   "source": [
    "plt.bar(5,corona['ConfirmedIndianNational'],10)\n",
    "plt.bar(5,corona['Cured'],10)\n",
    "\n",
    "plt.plot()\n",
    "plt.xlabel('confirmed')\n",
    "plt.ylabel('cured')"
   ]
  },
  {
   "cell_type": "code",
   "execution_count": 38,
   "metadata": {},
   "outputs": [
    {
     "data": {
      "text/plain": [
       "[]"
      ]
     },
     "execution_count": 38,
     "metadata": {},
     "output_type": "execute_result"
    },
    {
     "data": {
      "image/png": "[encoded data removed]",
      "text/plain": [
       "<Figure size 432x288 with 1 Axes>"
      ]
     },
     "metadata": {
      "needs_background": "light"
     },
     "output_type": "display_data"
    }
   ],
   "source": [
    "plt.bar(5,corona['ConfirmedForeignNational'],10)\n",
    "plt.bar(5,corona['Cured'],10)\n",
    "\n",
    "plt.plot()\n"
   ]
  },
  {
   "cell_type": "code",
   "execution_count": 43,
   "metadata": {},
   "outputs": [
    {
     "data": {
      "text/plain": [
       "<matplotlib.axes._subplots.AxesSubplot at 0x157e1b39b08>"
      ]
     },
     "execution_count": 43,
     "metadata": {},
     "output_type": "execute_result"
    },
    {
     "data": {
      "image/png": "[encoded data removed]",
      "text/plain": [
       "<Figure size 432x288 with 1 Axes>"
      ]
     },
     "metadata": {
      "needs_background": "light"
     },
     "output_type": "display_data"
    }
   ],
   "source": [
    "sns.countplot(corona['Deaths'])\n"
   ]
  },
  {
   "cell_type": "code",
   "execution_count": 41,
   "metadata": {},
   "outputs": [
    {
     "data": {
      "text/plain": [
       "<matplotlib.axes._subplots.AxesSubplot at 0x157ddc1be08>"
      ]
     },
     "execution_count": 41,
     "metadata": {},
     "output_type": "execute_result"
    },
    {
     "data": {
      "image/png": "[encoded data removed]",
      "text/plain": [
       "<Figure size 432x288 with 1 Axes>"
      ]
     },
     "metadata": {
      "needs_background": "light"
     },
     "output_type": "display_data"
    }
   ],
   "source": [
    "sns.countplot(corona['Cured'])"
   ]
  },
  {
   "cell_type": "code",
   "execution_count": null,
   "metadata": {},
   "outputs": [],
   "source": []
  },
  {
   "cell_type": "code",
   "execution_count": null,
   "metadata": {},
   "outputs": [],
   "source": []
  }
 ],
 "metadata": {
  "kernelspec": {
   "display_name": "Python 3",
   "language": "python",
   "name": "python3"
  },
  "language_info": {
   "codemirror_mode": {
    "name": "ipython",
    "version": 3
   },
   "file_extension": ".py",
   "mimetype": "text/x-python",
   "name": "python",
   "nbconvert_exporter": "python",
   "pygments_lexer": "ipython3",
   "version": "3.7.6"
  }
 },
 "nbformat": 4,
 "nbformat_minor": 4
}
